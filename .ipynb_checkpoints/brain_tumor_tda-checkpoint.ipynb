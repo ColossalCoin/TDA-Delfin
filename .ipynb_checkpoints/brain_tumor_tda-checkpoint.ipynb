{
 "cells": [
  {
   "cell_type": "markdown",
   "id": "073ab6a8-02ab-4b71-98db-011705c0f90b",
   "metadata": {},
   "source": [
    "# Detección de tumores cerebrales\n",
    "Este notebook toma como referencia el proyecto [Brain Tumor Detection v1.0 || CNN, VGG-16](https://www.kaggle.com/code/ruslankl/brain-tumor-detection-v1-0-cnn-vgg-16) disponible en Kaggle. El objetivo de este proyecto es ralizar un análisis topológico de datos sobre las resonancias magnéticas del conjunto de datos trabajado en el proyecto mencionado, buscando mejorar los resultados del modelo obtenido en el mismo."
   ]
  },
  {
   "cell_type": "markdown",
   "id": "3d9b9d2b-8250-4da9-aac5-8717f03adbfa",
   "metadata": {},
   "source": [
    "## Descripción del conjunto de datos"
   ]
  },
  {
   "cell_type": "code",
   "execution_count": 1,
   "id": "ba2a95d2-290e-4d4d-a738-958c509a65ad",
   "metadata": {},
   "outputs": [
    {
     "ename": "ModuleNotFoundError",
     "evalue": "No module named 'data'",
     "output_type": "error",
     "traceback": [
      "\u001b[1;31m---------------------------------------------------------------------------\u001b[0m",
      "\u001b[1;31mModuleNotFoundError\u001b[0m                       Traceback (most recent call last)",
      "Cell \u001b[1;32mIn[1], line 1\u001b[0m\n\u001b[1;32m----> 1\u001b[0m \u001b[38;5;28;01mfrom\u001b[39;00m \u001b[38;5;21;01mdata\u001b[39;00m \u001b[38;5;28;01mimport\u001b[39;00m brain_tumor_dataset\n",
      "\u001b[1;31mModuleNotFoundError\u001b[0m: No module named 'data'"
     ]
    }
   ],
   "source": [
    "from data import brain_tumor_dataset"
   ]
  }
 ],
 "metadata": {
  "kernelspec": {
   "display_name": "Python 3 (ipykernel)",
   "language": "python",
   "name": "python3"
  },
  "language_info": {
   "codemirror_mode": {
    "name": "ipython",
    "version": 3
   },
   "file_extension": ".py",
   "mimetype": "text/x-python",
   "name": "python",
   "nbconvert_exporter": "python",
   "pygments_lexer": "ipython3",
   "version": "3.8.18"
  }
 },
 "nbformat": 4,
 "nbformat_minor": 5
}
