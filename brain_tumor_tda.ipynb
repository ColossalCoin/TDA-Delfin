{
 "cells": [
  {
   "cell_type": "markdown",
   "id": "073ab6a8-02ab-4b71-98db-011705c0f90b",
   "metadata": {},
   "source": [
    "# Detección de tumores cerebrales\n",
    "Este notebook toma como referencia el proyecto [Brain Tumor Detection v1.0 || CNN, VGG-16](https://www.kaggle.com/code/ruslankl/brain-tumor-detection-v1-0-cnn-vgg-16) disponible en Kaggle. El objetivo de este proyecto es ralizar un análisis topológico de datos sobre las resonancias magnéticas del conjunto de datos trabajado en el proyecto mencionado, buscando mejorar los resultados del modelo obtenido en el mismo."
   ]
  },
  {
   "cell_type": "markdown",
   "id": "3d9b9d2b-8250-4da9-aac5-8717f03adbfa",
   "metadata": {},
   "source": [
    "## Descripción del conjunto de datos\n",
    "El [conjunto de datos](https://www.kaggle.com/datasets/navoneel/brain-mri-images-for-brain-tumor-detection) utilizado consta de 253 resonancias magnéticas (MRI) de distintos cerebros divididas en dos clases, aquellas que pressentan por lo menos un tumor cerebral visible y aquellas que no. Se cuenta con 155 resonancias magnéticas en las que se observa presencia de tumores y 98 en las que no.\n",
    "\n",
    "Para este análisis se optó, primeramente, por convertir las imágenes a arreglos de numpy en escala de grises, fijando un mismo tamaño de imagen para todas ellas (224x224 píxeles). Considerando lo anterior, podemos esperar que algunas imágenes se hayan distorsionado durante el proceso."
   ]
  },
  {
   "cell_type": "code",
   "execution_count": null,
   "id": "09cd0ffe-0fb0-44aa-9904-ffee2537e346",
   "metadata": {},
   "outputs": [],
   "source": [
    "from data.image_converter import get_images\n",
    "\n",
    "image_size = (224, 224)\n",
    "tumor_positives, tumor_negatives = get_images(image_size=image_size)"
   ]
  },
  {
   "cell_type": "code",
   "execution_count": null,
   "id": "ad6a2b99-6df1-41d6-91b8-deb973bbe073",
   "metadata": {},
   "outputs": [],
   "source": [
    "from plotly.graph_objects import Figure\n",
    "\n",
    "fig = Figure()\n",
    "fig.add_bar(x=['Positivos para tumor', 'Negativos para tumor'], y=[len(tumor_positives), len(tumor_negatives)], \n",
    "            name='Elementos por clase', marker={'color':['#007bff', '#ff7f00']})\n",
    "fig.update_layout(title='Conteo de elementos por clase')"
   ]
  },
  {
   "cell_type": "markdown",
   "id": "c6a39712-2a2b-4fda-8d8e-d3dccf5d20b2",
   "metadata": {},
   "source": [
    "Podemos observar que los cerebros presentes en cada imagen varían en nivel de iluminación, forma, detalles, etc. Un análisis más minucioso de los datos también revelaría que los tumores varían en tamaño y las resonancias sin tumores no parecen provenir necesariamente de cerebros completamente sanos. Adicionalmente, algunas resonancias presentan añadidos como flechas señalando tumores o marcas indicando la perspectiva desde la que se tomó la resonancia magnética en cuestión. \n",
    "\n",
    "Anomalías en los cerebros como la presencia de ojos en la resonancia o pliegues súmamente marcados podrían afectar negativamente el rendimiento de un modelo basado en un análisis topológico de datos."
   ]
  },
  {
   "cell_type": "code",
   "execution_count": null,
   "id": "41121fe7-ecfe-4c8b-9459-4212256406e9",
   "metadata": {},
   "outputs": [],
   "source": [
    "import numpy as np\n",
    "from plotly.subplots import make_subplots\n",
    "from gtda.plotting import plot_heatmap\n",
    "\n",
    "seed = 123\n",
    "np.random.seed(123)\n",
    "\n",
    "random_positives_idx = np.random.randint(0, len(tumor_positives) - 1, size=3)\n",
    "random_negatives_idx = np.random.randint(0, len(tumor_negatives) - 1, size=3)\n",
    "\n",
    "fig = make_subplots(rows=3, cols=2, subplot_titles=['MRI con tumores', 'MRI sin tumores'], vertical_spacing=0.02)\n",
    "fig.update_layout(width=600, height=700)\n",
    "\n",
    "for row, idx in enumerate(random_positives_idx):\n",
    "    fig.add_trace(plot_heatmap(tumor_positives[idx])['data'][0], row=row+1, col=1)\n",
    "for row, idx in enumerate(random_negatives_idx):\n",
    "    fig.add_trace(plot_heatmap(tumor_negatives[idx])['data'][0], row=row+1, col=2)\n",
    "fig"
   ]
  },
  {
   "cell_type": "markdown",
   "id": "80ec211c-754c-402c-8619-8c35b4b1f0f2",
   "metadata": {},
   "source": [
    "## Aumento del conjunto de datos"
   ]
  },
  {
   "cell_type": "code",
   "execution_count": null,
   "id": "f1e6df64-4b4b-45a8-b132-51590a64d092",
   "metadata": {
    "scrolled": true
   },
   "outputs": [],
   "source": [
    "from data.data_split import train_val_test_split\n",
    "\n",
    "train_val_test_split((70, 20, 10))"
   ]
  },
  {
   "cell_type": "code",
   "execution_count": null,
   "id": "ec1bd491-0157-4959-9513-388b9a39c923",
   "metadata": {},
   "outputs": [],
   "source": [
    "from os import getcwd, listdir\n",
    "\n",
    "fig = Figure()\n",
    "data_path = getcwd() + r'\\data\\brain_tumor_dataset\\split_data'\n",
    "\n",
    "fig.add_bar(x=['Entrenamiento', 'Validación', 'Prueba'], \n",
    "            y=[len(listdir(data_path + r'\\train\\yes')), \n",
    "               len(listdir(data_path + r'\\val\\yes')), \n",
    "               len(listdir(data_path + r'\\test\\yes'))],\n",
    "           name='Con tumores', marker={'color':['#007bff', '#007bff', '#007bff']})\n",
    "fig.add_bar(x=['Entrenamiento', 'Validación', 'Prueba'], \n",
    "            y=[len(listdir(data_path + r'\\train\\no')), \n",
    "               len(listdir(data_path + r'\\val\\no')), \n",
    "               len(listdir(data_path + r'\\test\\no'))],\n",
    "           name='Sin tumores', marker={'color':['#ff7f00', '#ff7f00', '#ff7f00']})\n",
    "fig"
   ]
  },
  {
   "cell_type": "code",
   "execution_count": null,
   "id": "51126c39-bc81-46b6-ac5d-9fde6a7f1437",
   "metadata": {},
   "outputs": [],
   "source": [
    "%%time\n",
    "from data.mkdir_augmented import mk_augmented_dir\n",
    "from keras.preprocessing.image import ImageDataGenerator\n",
    "from keras.applications.vgg16 import preprocess_input\n",
    "\n",
    "mk_augmented_dir()\n",
    "\n",
    "train_datagen = ImageDataGenerator(\n",
    "    rotation_range=15,\n",
    "    width_shift_range=0.1,\n",
    "    height_shift_range=0.1,\n",
    "    shear_range=0.1,\n",
    "    brightness_range=[0.5, 1.5],\n",
    "    horizontal_flip=True,\n",
    "    vertical_flip=True,\n",
    "    preprocessing_function=preprocess_input,\n",
    "    fill_mode='constant',\n",
    "    cval=0\n",
    ")\n",
    "\n",
    "train_copies = 1\n",
    "val_copies = 1\n",
    "folders = ['yes', 'no']\n",
    "\n",
    "for folder in folders:\n",
    "    i = 1\n",
    "    for batch in train_datagen.flow_from_directory(\n",
    "            directory=data_path + r'\\train',\n",
    "            save_to_dir=data_path + r'\\train_augmented\\\\' + folder,\n",
    "            classes=[folder],\n",
    "            color_mode='rgb',\n",
    "            target_size=image_size,\n",
    "            batch_size=32,\n",
    "            class_mode='binary',\n",
    "            seed=seed,\n",
    "        ):\n",
    "        i += 1\n",
    "        if i > train_copies: \n",
    "            break"
   ]
  },
  {
   "cell_type": "code",
   "execution_count": null,
   "id": "e2c139d8-ad02-4805-872e-b87c89ff6392",
   "metadata": {},
   "outputs": [],
   "source": [
    "fig = Figure()\n",
    "data_path = getcwd() + r'\\data\\brain_tumor_dataset\\split_data'\n",
    "\n",
    "fig.add_bar(x=['Entrenamiento', 'Validación', 'Prueba'], \n",
    "            y=[len(listdir(data_path + r'\\train_augmented\\yes')), \n",
    "               len(listdir(data_path + r'\\val\\yes')), \n",
    "               len(listdir(data_path + r'\\test\\yes'))],\n",
    "           name='Con tumores', marker={'color':['#007bff', '#007bff', '#007bff']})\n",
    "fig.add_bar(x=['Entrenamiento', 'Validación', 'Prueba'], \n",
    "            y=[len(listdir(data_path + r'\\train_augmented\\no')), \n",
    "               len(listdir(data_path + r'\\val\\no')), \n",
    "               len(listdir(data_path + r'\\test\\no'))],\n",
    "           name='Sin tumores', marker={'color':['#ff7f00', '#ff7f00', '#ff7f00']})\n",
    "fig"
   ]
  },
  {
   "cell_type": "code",
   "execution_count": null,
   "id": "a1f9e376-bc78-47d4-ad2e-a79de28b1249",
   "metadata": {},
   "outputs": [],
   "source": [
    "train_yes, train_no = get_images(image_size=image_size, augmented=True)"
   ]
  },
  {
   "cell_type": "code",
   "execution_count": null,
   "id": "0a4ab211-20d2-4092-a9ad-73373789184f",
   "metadata": {},
   "outputs": [],
   "source": [
    "%%time\n",
    "from gtda.images import Binarizer\n",
    "\n",
    "rows = 3\n",
    "cols = 10\n",
    "\n",
    "np.random.seed(123)\n",
    "random_positives_idx = np.random.randint(0, len(train_yes) - 1, size=rows)\n",
    "random_negatives_idx = np.random.randint(0, len(train_no) - 1, size=rows)\n",
    "\n",
    "fig = make_subplots(rows=rows, cols=cols)\n",
    "fig.update_layout(width=1300, height=600, title='Resonancias magnéticas binarizadas con tumores')\n",
    "\n",
    "for threshold in range(1, cols):\n",
    "    binarizer = Binarizer(threshold=threshold/10, n_jobs=-1)\n",
    "    for row, idx in enumerate(random_positives_idx):\n",
    "        binarized_yes = binarizer.fit_transform(train_yes[idx].reshape(-1, train_yes[idx].shape[0], train_yes[idx].shape[1]))\n",
    "        fig.add_trace(binarizer.plot(binarized_yes)['data'][0], row=row+1, col=threshold)\n",
    "fig"
   ]
  },
  {
   "cell_type": "code",
   "execution_count": null,
   "id": "8397d223-14d0-4e36-9f26-aeb6c05c11d7",
   "metadata": {},
   "outputs": [],
   "source": [
    "%%time\n",
    "fig = make_subplots(rows=rows, cols=cols)\n",
    "fig.update_layout(width=1300, height=600)\n",
    "\n",
    "for threshold in range(1, cols):\n",
    "    binarizer = Binarizer(threshold=threshold/10, n_jobs=-1)\n",
    "    for row, idx in enumerate(random_positives_idx):\n",
    "        binarized_no = binarizer.fit_transform(train_no[idx].reshape(-1, train_no[idx].shape[0], train_no[idx].shape[1]))\n",
    "        fig.add_trace(binarizer.plot(binarized_no)['data'][0], row=row+1, col=threshold)\n",
    "fig"
   ]
  },
  {
   "cell_type": "markdown",
   "id": "6152b32c-952c-4e3b-ae42-9963365459b6",
   "metadata": {},
   "source": [
    "## Análisis de una sola resonancia"
   ]
  },
  {
   "cell_type": "code",
   "execution_count": null,
   "id": "992e0f0a-078e-4271-8f0d-bdf00bc0c9d6",
   "metadata": {},
   "outputs": [],
   "source": [
    "np.random.seed(123)\n",
    "im_yes_idx = np.random.randint(0, len(train_yes) - 1)\n",
    "im_no_idx = np.random.randint(0, len(train_no) - 1)\n",
    "\n",
    "im_yes = train_yes[im_yes_idx]\n",
    "im_yes_plot = plot_heatmap(im_yes)\n",
    "\n",
    "im_no = train_no[im_no_idx]\n",
    "im_no_plot = plot_heatmap(im_no)\n",
    "\n",
    "fig = make_subplots(rows=1, cols=2, subplot_titles=['Con tumor', 'Sin tumor'])\n",
    "fig.update_layout(width=600, height=350)\n",
    "fig.add_trace(im_yes_plot['data'][0], row=1, col=1)\n",
    "fig.add_trace(im_no_plot['data'][0], row=1, col=2)\n",
    "fig"
   ]
  },
  {
   "cell_type": "code",
   "execution_count": null,
   "id": "895ddbac-a539-49d0-bce0-87bab363c21e",
   "metadata": {},
   "outputs": [],
   "source": [
    "from gtda.images import RadialFiltration\n",
    "\n",
    "radial_filtration = RadialFiltration(center=np.array([196, 196]), n_jobs=-1)\n",
    "im_yes = im_yes[None, :, :]\n",
    "im_no = im_no[None, :, :]\n",
    "\n",
    "im_yes_radial = radial_filtration.fit_transform(im_yes)\n",
    "im_yes_radial_plot = radial_filtration.plot(im_yes_radial, colorscale='jet')\n",
    "\n",
    "im_no_radial = radial_filtration.fit_transform(im_no)\n",
    "im_no_radial_plot = radial_filtration.plot(im_no_radial, colorscale='jet')\n",
    "\n",
    "fig = make_subplots(rows=1, cols=2, subplot_titles=['Con tumor', 'Sin tumor'])\n",
    "fig.update_layout(width=600, height=350)\n",
    "fig.add_trace(im_yes_radial_plot['data'][0], row=1, col=1)\n",
    "fig.add_trace(im_no_radial_plot['data'][0], row=1, col=2)\n",
    "fig"
   ]
  },
  {
   "cell_type": "code",
   "execution_count": null,
   "id": "f5ec19c3-f89b-4404-87fe-8f8710ca7005",
   "metadata": {},
   "outputs": [],
   "source": [
    "from gtda.homology import CubicalPersistence\n",
    "from gtda.diagrams import Scaler\n",
    "\n",
    "cubical_pesistence = CubicalPersistence(n_jobs=-1)\n",
    "scaler = Scaler(n_jobs=-1)\n",
    "\n",
    "im_yes_cubical = cubical_pesistence.fit_transform(im_yes_radial)\n",
    "im_yes_cubical_scaled = scaler.fit_transform(im_yes_cubical)\n",
    "im_yes_cubical_scaled_plot = scaler.plot(im_yes_cubical_scaled, \n",
    "                                         plotly_params={'layout':{'title':'Diagrama de persistencia de un cerebro con tumor'}})\n",
    "\n",
    "im_no_cubical = cubical_pesistence.fit_transform(im_no_radial)\n",
    "im_no_cubical_scaled = scaler.fit_transform(im_no_cubical)\n",
    "im_no_cubical_scaled_plot = scaler.plot(im_no_cubical_scaled, \n",
    "                                       plotly_params={'layout':{'title':'Daiagrama de persistencia de un cerebro sin tumores'}})\n",
    "\n",
    "im_yes_cubical_scaled_plot.show()\n",
    "im_no_cubical_scaled_plot.show()"
   ]
  },
  {
   "cell_type": "code",
   "execution_count": null,
   "id": "f8f0d26f-2698-47fa-9e12-9e6bf5cf569f",
   "metadata": {},
   "outputs": [],
   "source": [
    "from gtda.diagrams import HeatKernel\n",
    "\n",
    "heat_kernel = HeatKernel(sigma=0.15, n_bins=60, n_jobs=-1)\n",
    "\n",
    "im_yes_cubical_heat = heat_kernel.fit_transform(im_yes_cubical_scaled)\n",
    "im_no_cubical_heat = heat_kernel.fit_transform(im_no_cubical_scaled)\n",
    "\n",
    "im_yes_cubical_heat_plot = heat_kernel.plot(im_yes_cubical_heat, homology_dimension_idx=1, colorscale='jet')\n",
    "im_no_cubical_heat_plot = heat_kernel.plot(im_no_cubical_heat, homology_dimension_idx=1, colorscale='jet')\n",
    "\n",
    "fig = make_subplots(rows=1, cols=2, subplot_titles=['Con tumor', 'Sin tumor'])\n",
    "fig.add_trace(im_yes_cubical_heat_plot['data'][0], row=1, col=1)\n",
    "fig.add_trace(im_no_cubical_heat_plot['data'][0], row=1, col=2)\n",
    "fig.update_layout(width=800, height=400)"
   ]
  },
  {
   "cell_type": "code",
   "execution_count": null,
   "id": "6d621b69-de26-4771-8ea7-3b0805dd5294",
   "metadata": {},
   "outputs": [],
   "source": [
    "%%time\n",
    "fig = make_subplots(rows=3, cols=10)\n",
    "\n",
    "for threshold in range(1, 10):\n",
    "    binarizer = Binarizer(threshold=threshold/10, n_jobs=-1)\n",
    "    im_yes_binarized = binarizer.fit_transform(im_yes.reshape(-1, im_yes.shape[0], im_yes.shape[1]))\n",
    "    im_yes_binarized_plot = binarizer.plot(im_yes_binarized)\n",
    "\n",
    "    im_yes_binarized_radial = radial_filtration.fit_transform(im_yes_binarized)\n",
    "    im_yes_binarized_radial_plot = radial_filtration.plot(im_yes_binarized_radial, colorscale='jet')\n",
    "    \n",
    "    im_yes_cubical = cubical_pesistence.fit_transform(im_yes_binarized_radial)\n",
    "    im_yes_cubical_scaled = scaler.fit_transform(im_yes_cubical)\n",
    "    im_yes_cubical_heat = heat_kernel.fit_transform(im_yes_cubical_scaled)\n",
    "    im_yes_cubical_heat_plot = heat_kernel.plot(im_yes_cubical_heat, homology_dimension_idx=1, colorscale='jet')\n",
    "    \n",
    "    fig.add_trace(im_yes_binarized_plot['data'][0], row=1, col=threshold)\n",
    "    fig.add_trace(im_yes_binarized_radial_plot['data'][0], row=2, col=threshold)\n",
    "    fig.add_trace(im_yes_cubical_heat_plot['data'][0], row=3, col=threshold)\n",
    "    \n",
    "fig.update_layout(width=1300, height=600)"
   ]
  },
  {
   "cell_type": "code",
   "execution_count": null,
   "id": "87184f65-e89a-4a05-b924-ee30a84d3b1e",
   "metadata": {},
   "outputs": [],
   "source": [
    "%%time\n",
    "fig = make_subplots(rows=3, cols=10)\n",
    "\n",
    "for threshold in range(1, 10):\n",
    "    binarizer = Binarizer(threshold=threshold/10, n_jobs=-1)\n",
    "    im_no_binarized = binarizer.fit_transform(im_no.reshape(-1, im_no.shape[0], im_no.shape[1]))\n",
    "    im_no_binarized_plot = binarizer.plot(im_no_binarized)\n",
    "\n",
    "    im_no_binarized_radial = radial_filtration.fit_transform(im_no_binarized)\n",
    "    im_no_binarized_radial_plot = radial_filtration.plot(im_no_binarized_radial, colorscale='jet')\n",
    "\n",
    "    im_no_cubical = cubical_pesistence.fit_transform(im_no_binarized_radial)\n",
    "    im_no_cubical_scaled = scaler.fit_transform(im_no_cubical)\n",
    "    im_no_cubical_heat = heat_kernel.fit_transform(im_no_cubical_scaled)\n",
    "    im_no_cubical_heat_plot = heat_kernel.plot(im_no_cubical_heat, homology_dimension_idx=1, colorscale='jet')\n",
    "\n",
    "    fig.add_trace(im_no_binarized_plot['data'][0], row=1, col=threshold)\n",
    "    fig.add_trace(im_no_binarized_radial_plot['data'][0], row=2, col=threshold)\n",
    "    fig.add_trace(im_no_cubical_heat_plot['data'][0], row=3, col=threshold)\n",
    "    \n",
    "fig.update_layout(width=1300, height=600)"
   ]
  },
  {
   "cell_type": "markdown",
   "id": "34080eb6-6fe3-434c-aca7-dc8b3f350857",
   "metadata": {},
   "source": [
    "## Diseño de un Pipeline"
   ]
  },
  {
   "cell_type": "code",
   "execution_count": null,
   "id": "bdd569d0-be91-48c8-9c3a-40bb9fa73c6b",
   "metadata": {},
   "outputs": [],
   "source": [
    "from itertools import product\n",
    "from sklearn.pipeline import make_pipeline, make_union\n",
    "from sklearn import set_config\n",
    "from gtda.diagrams import PersistenceEntropy, Amplitude\n",
    "\n",
    "threshold_iter = np.arange(0.1, 1, 0.1)\n",
    "#direction_iter = product({1, -1, 0}, {1, -1, 0})\n",
    "center_iter = product({28, 112 ,196}, {28, 112, 196})\n",
    "\n",
    "binarizers = ([Binarizer(threshold=threshold, n_jobs=-1) for threshold in threshold_iter])\n",
    "radial_filtrations = ([RadialFiltration(center=np.array(center), n_jobs=-1) for center in center_iter])\n",
    "\n",
    "steps = [\n",
    "    [\n",
    "        binarizer,\n",
    "        radial_filtration,\n",
    "        #HeatKernel(sigma=0.15, n_bins=60, n_jobs=-1),\n",
    "        CubicalPersistence(n_jobs=-1),\n",
    "        Scaler(n_jobs=-1)\n",
    "    ] for radial_filtration in radial_filtrations\n",
    "    for binarizer in binarizers\n",
    "]\n",
    "\n",
    "metric_iter = [\n",
    "    {'metric':'bottleneck', 'metric_params':{}},\n",
    "    {'metric':'wasserstein', 'metric_params':{'p':1}},\n",
    "    {'metric':'wasserstein', 'metric_params':{'p':2}},\n",
    "    {'metric':'landscape', 'metric_params':{'p':1, 'n_layers':1, 'n_bins':100}},\n",
    "    {'metric':'landscape', 'metric_params':{'p':1, 'n_layers':2, 'n_bins':100}},\n",
    "    {'metric':'landscape', 'metric_params':{'p':2, 'n_layers':1, 'n_bins':100}},\n",
    "    {'metric':'landscape', 'metric_params':{'p':2, 'n_layers':2, 'n_bins':100}},\n",
    "    {'metric':'betti', 'metric_params':{'p':1, 'n_bins':100}},\n",
    "    {'metric':'betti', 'metric_params':{'p':2, 'n_bins':100}},\n",
    "    {'metric':'heat', 'metric_params':{'p':1, 'sigma':1.6, 'n_bins':100}},\n",
    "    {'metric':'heat', 'metric_params':{'p':1, 'sigma':3.2, 'n_bins':100}},\n",
    "    {'metric':'heat', 'metric_params':{'p':2, 'sigma':1.6, 'n_bins':100}},\n",
    "    {'metric':'heat', 'metric_params':{'p':2, 'sigma':3.2, 'n_bins':100}}\n",
    "]\n",
    "amplitudes = ([Amplitude(**metric, n_jobs=-1) for metric in metric_iter])\n",
    "amplitudes_union = make_union(*[PersistenceEntropy(nan_fill_value=-1)] + amplitudes)\n",
    "\n",
    "tda_pipeline = make_union(\n",
    "    *[make_pipeline(*step, amplitudes_union) for step in steps], n_jobs=-1\n",
    ")\n",
    "\n",
    "set_config(display='diagram')\n",
    "tda_pipeline"
   ]
  },
  {
   "cell_type": "code",
   "execution_count": null,
   "id": "261d337b-e222-496d-bde3-daa31df6e8b6",
   "metadata": {},
   "outputs": [],
   "source": [
    "%%time\n",
    "im_yes_aux = im_yes\n",
    "im_yes_pipeline = tda_pipeline.fit_transform(im_yes_aux)\n",
    "im_yes_pipeline.shape"
   ]
  },
  {
   "cell_type": "code",
   "execution_count": null,
   "id": "6211c921-5374-4ae6-8525-aa25f5554f77",
   "metadata": {},
   "outputs": [],
   "source": [
    "%%time\n",
    "train_yes_pipeline = tda_pipeline.fit_transform(train_yes)\n",
    "train_yes_pipeline.shape"
   ]
  },
  {
   "cell_type": "code",
   "execution_count": null,
   "id": "96e92b01-0ab9-47d4-aef3-270ac502dae7",
   "metadata": {},
   "outputs": [],
   "source": [
    "%%time\n",
    "train_no_pipeline = tda_pipeline.fit_transform(train_no)\n",
    "train_no_pipeline.shape"
   ]
  },
  {
   "cell_type": "code",
   "execution_count": null,
   "id": "bdb2ee36-1bf6-475f-9a73-313ed77fd365",
   "metadata": {},
   "outputs": [],
   "source": [
    "train_pipeline = np.concatenate((train_no_pipeline, train_yes_pipeline))\n",
    "train_pipeline.shape"
   ]
  },
  {
   "cell_type": "code",
   "execution_count": null,
   "id": "7de6cce5-3083-4812-9929-99605290514b",
   "metadata": {},
   "outputs": [],
   "source": [
    "from sklearn.model_selection import train_test_split\n",
    "\n",
    "X = np.concatenate((tumor_positives, tumor_negatives))\n",
    "y = np.concatenate((np.ones(tumor_positives.shape[0]), np.zeros(tumor_negatives.shape[0])))\n",
    "\n",
    "X_train, X_test, y_train, y_test = train_test_split(X, y, test_size=0.33, random_state=123)\n",
    "X_train.shape, X_test.shape"
   ]
  },
  {
   "cell_type": "code",
   "execution_count": null,
   "id": "60337d7f-e5d4-4f98-8e21-246f68d68aba",
   "metadata": {},
   "outputs": [],
   "source": [
    "%%time\n",
    "X_train_pipeline = tda_pipeline.fit_transform(X_train)\n",
    "X_train_pipeline.shape"
   ]
  }
 ],
 "metadata": {
  "kernelspec": {
   "display_name": "Python 3 (ipykernel)",
   "language": "python",
   "name": "python3"
  },
  "language_info": {
   "codemirror_mode": {
    "name": "ipython",
    "version": 3
   },
   "file_extension": ".py",
   "mimetype": "text/x-python",
   "name": "python",
   "nbconvert_exporter": "python",
   "pygments_lexer": "ipython3",
   "version": "3.8.18"
  }
 },
 "nbformat": 4,
 "nbformat_minor": 5
}
